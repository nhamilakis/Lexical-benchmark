{
 "cells": [
  {
   "cell_type": "markdown",
   "id": "eb576686-8b44-40fc-af9c-97ef46e9a3d4",
   "metadata": {},
   "source": [
    "# MB-CDI Dataset Download\n",
    "This notebook contains the instructions to download the data.\n",
    "\n",
    "After downloading the data we end up with the following files :\n",
    "\n",
    "```\n",
    "├── eng-br\n",
    "│   ├── cdi-wg-oxphrd.csv\n",
    "│   ├── cdi-wgshort-oxphrd.csv\n",
    "│   ├── cdi-ws-td2.csv\n",
    "│   └── cdi-ws-td3.csv\n",
    "└── eng-na\n",
    "    ├── cdi-wg.csv\n",
    "    ├── cdi-ws.csv\n",
    "    └── cdi-wsshort.csv\n",
    "```\n",
    "\n",
    "These CSVs have the following columns :\n",
    "\n",
    "- downloaded: a date corresponding to the date it was downloaded.\n",
    "- item_id: the id of the utterance.\n",
    "- item_definition: the definition of the utterance.\n",
    "- category: the category of the utterance.\n",
    "- [16 - 30] these columns correspond to the month of the child the cell values correspond to score based on knowledge of the word.\n",
    "\n",
    "\n",
    "# Data structure\n",
    "\n",
    "| Accent - Form        | Understands                     | Produces                          | AGERANGE (in months) |\n",
    "|----------------------|---------------------------------|-----------------------------------|----------------------|\n",
    "| American(WG)         | <input type=\"checkbox\" checked> | <input type=\"checkbox\"  checked > | 8-18                 |\n",
    "| American(WGShort)    | <input type=\"checkbox\" checked> | <input type=\"checkbox\" checked>   | 16-36                |\n",
    "| American(WS)         | <input type=\"checkbox\">         | <input type=\"checkbox\" checked>   | 16-30                |\n",
    "| American(WSShort)    | <input type=\"checkbox\">         | <input type=\"checkbox\" checked>   | 16-36                |\n",
    "| British(TEDS Twos)   | <input type=\"checkbox\">         | <input type=\"checkbox\" checked>   | 20-35                |\n",
    "| British(TEDS Threes) | <input type=\"checkbox\">         | <input type=\"checkbox\" checked>   | 34-47                |\n",
    "| British(Oxford CDI)  | <input type=\"checkbox\" checked> | <input type=\"checkbox\" checked>   | 12-25                |\n",
    "| British(OxfordShort) | <input type=\"checkbox\" checked> | <input type=\"checkbox\" checked>   | 8-16                 |"
   ]
  },
  {
   "cell_type": "code",
   "execution_count": null,
   "id": "685e1195-9d10-409b-899a-94bc8149dff5",
   "metadata": {},
   "outputs": [],
   "source": [
    "# Install packages\n",
    "install.packages(\"devtools\")\n",
    "devtools::install_github(\"langcog/wordbankr\")"
   ]
  },
  {
   "cell_type": "markdown",
   "id": "0c7e3db3-0163-4d35-a7a5-b76b56a1f06a",
   "metadata": {},
   "source": [
    "#### Query English sub-datasets"
   ]
  },
  {
   "cell_type": "code",
   "execution_count": 10,
   "id": "58ae50f6-2b98-46a1-9801-ad9ad2c569d5",
   "metadata": {},
   "outputs": [
    {
     "data": {
      "text/html": [
       "<table class=\"dataframe\">\n",
       "<caption>A tibble: 10 × 8</caption>\n",
       "<thead>\n",
       "\t<tr><th scope=col>instrument_id</th><th scope=col>language</th><th scope=col>form</th><th scope=col>form_type</th><th scope=col>age_min</th><th scope=col>age_max</th><th scope=col>has_grammar</th><th scope=col>unilemma_coverage</th></tr>\n",
       "\t<tr><th scope=col>&lt;int&gt;</th><th scope=col>&lt;chr&gt;</th><th scope=col>&lt;chr&gt;</th><th scope=col>&lt;chr&gt;</th><th scope=col>&lt;int&gt;</th><th scope=col>&lt;int&gt;</th><th scope=col>&lt;int&gt;</th><th scope=col>&lt;dbl&gt;</th></tr>\n",
       "</thead>\n",
       "<tbody>\n",
       "\t<tr><td> 7</td><td>English (American)  </td><td>WG         </td><td>WG</td><td> 8</td><td>18</td><td>0</td><td>1.00</td></tr>\n",
       "\t<tr><td> 8</td><td>English (American)  </td><td>WS         </td><td>WS</td><td>16</td><td>30</td><td>1</td><td>1.00</td></tr>\n",
       "\t<tr><td>31</td><td>English (British)   </td><td>TEDS Twos  </td><td>WS</td><td>20</td><td>35</td><td>1</td><td>1.00</td></tr>\n",
       "\t<tr><td>32</td><td>English (British)   </td><td>TEDS Threes</td><td>WS</td><td>34</td><td>47</td><td>1</td><td>0.99</td></tr>\n",
       "\t<tr><td>43</td><td>English (Australian)</td><td>WS         </td><td>WS</td><td>12</td><td>30</td><td>1</td><td>1.00</td></tr>\n",
       "\t<tr><td>44</td><td>English (British)   </td><td>Oxford CDI </td><td>WG</td><td>12</td><td>25</td><td>0</td><td>1.00</td></tr>\n",
       "\t<tr><td>59</td><td>English (Irish)     </td><td>WS         </td><td>WS</td><td>16</td><td>36</td><td>1</td><td>0.97</td></tr>\n",
       "\t<tr><td>81</td><td>English (American)  </td><td>WSShort    </td><td>WS</td><td>16</td><td>36</td><td>0</td><td>1.00</td></tr>\n",
       "\t<tr><td>82</td><td>English (American)  </td><td>WGShort    </td><td>WG</td><td>16</td><td>36</td><td>0</td><td>1.00</td></tr>\n",
       "\t<tr><td>83</td><td>English (British)   </td><td>OxfordShort</td><td>WG</td><td> 8</td><td>16</td><td>0</td><td>1.00</td></tr>\n",
       "</tbody>\n",
       "</table>\n"
      ],
      "text/latex": [
       "A tibble: 10 × 8\n",
       "\\begin{tabular}{llllllll}\n",
       " instrument\\_id & language & form & form\\_type & age\\_min & age\\_max & has\\_grammar & unilemma\\_coverage\\\\\n",
       " <int> & <chr> & <chr> & <chr> & <int> & <int> & <int> & <dbl>\\\\\n",
       "\\hline\n",
       "\t  7 & English (American)   & WG          & WG &  8 & 18 & 0 & 1.00\\\\\n",
       "\t  8 & English (American)   & WS          & WS & 16 & 30 & 1 & 1.00\\\\\n",
       "\t 31 & English (British)    & TEDS Twos   & WS & 20 & 35 & 1 & 1.00\\\\\n",
       "\t 32 & English (British)    & TEDS Threes & WS & 34 & 47 & 1 & 0.99\\\\\n",
       "\t 43 & English (Australian) & WS          & WS & 12 & 30 & 1 & 1.00\\\\\n",
       "\t 44 & English (British)    & Oxford CDI  & WG & 12 & 25 & 0 & 1.00\\\\\n",
       "\t 59 & English (Irish)      & WS          & WS & 16 & 36 & 1 & 0.97\\\\\n",
       "\t 81 & English (American)   & WSShort     & WS & 16 & 36 & 0 & 1.00\\\\\n",
       "\t 82 & English (American)   & WGShort     & WG & 16 & 36 & 0 & 1.00\\\\\n",
       "\t 83 & English (British)    & OxfordShort & WG &  8 & 16 & 0 & 1.00\\\\\n",
       "\\end{tabular}\n"
      ],
      "text/markdown": [
       "\n",
       "A tibble: 10 × 8\n",
       "\n",
       "| instrument_id &lt;int&gt; | language &lt;chr&gt; | form &lt;chr&gt; | form_type &lt;chr&gt; | age_min &lt;int&gt; | age_max &lt;int&gt; | has_grammar &lt;int&gt; | unilemma_coverage &lt;dbl&gt; |\n",
       "|---|---|---|---|---|---|---|---|\n",
       "|  7 | English (American)   | WG          | WG |  8 | 18 | 0 | 1.00 |\n",
       "|  8 | English (American)   | WS          | WS | 16 | 30 | 1 | 1.00 |\n",
       "| 31 | English (British)    | TEDS Twos   | WS | 20 | 35 | 1 | 1.00 |\n",
       "| 32 | English (British)    | TEDS Threes | WS | 34 | 47 | 1 | 0.99 |\n",
       "| 43 | English (Australian) | WS          | WS | 12 | 30 | 1 | 1.00 |\n",
       "| 44 | English (British)    | Oxford CDI  | WG | 12 | 25 | 0 | 1.00 |\n",
       "| 59 | English (Irish)      | WS          | WS | 16 | 36 | 1 | 0.97 |\n",
       "| 81 | English (American)   | WSShort     | WS | 16 | 36 | 0 | 1.00 |\n",
       "| 82 | English (American)   | WGShort     | WG | 16 | 36 | 0 | 1.00 |\n",
       "| 83 | English (British)    | OxfordShort | WG |  8 | 16 | 0 | 1.00 |\n",
       "\n"
      ],
      "text/plain": [
       "   instrument_id language             form        form_type age_min age_max\n",
       "1   7            English (American)   WG          WG         8      18     \n",
       "2   8            English (American)   WS          WS        16      30     \n",
       "3  31            English (British)    TEDS Twos   WS        20      35     \n",
       "4  32            English (British)    TEDS Threes WS        34      47     \n",
       "5  43            English (Australian) WS          WS        12      30     \n",
       "6  44            English (British)    Oxford CDI  WG        12      25     \n",
       "7  59            English (Irish)      WS          WS        16      36     \n",
       "8  81            English (American)   WSShort     WS        16      36     \n",
       "9  82            English (American)   WGShort     WG        16      36     \n",
       "10 83            English (British)    OxfordShort WG         8      16     \n",
       "   has_grammar unilemma_coverage\n",
       "1  0           1.00             \n",
       "2  1           1.00             \n",
       "3  1           1.00             \n",
       "4  1           0.99             \n",
       "5  1           1.00             \n",
       "6  0           1.00             \n",
       "7  1           0.97             \n",
       "8  0           1.00             \n",
       "9  0           1.00             \n",
       "10 0           1.00             "
      ]
     },
     "metadata": {},
     "output_type": "display_data"
    }
   ],
   "source": [
    "dplyr::filter(wordbankr::get_instruments(), grepl(\"English\",language))"
   ]
  },
  {
   "cell_type": "code",
   "execution_count": 13,
   "id": "caa9ed0c-13cb-4113-bd11-16efa6c98d2f",
   "metadata": {},
   "outputs": [],
   "source": [
    "library(\"fs\")  # File manipulations\n",
    "dataset_root <- path(\"/scratch1/projects/lexical-benchmark/v2/datasets/source/wordbank-cdi\")\n",
    "english_na <- path(dataset_root, \"eng-na\")\n",
    "dir_create(english_na)\n",
    "english_br <- path(dataset_root, \"eng-br\")\n",
    "dir_create(english_br)"
   ]
  },
  {
   "cell_type": "markdown",
   "id": "3850e9be-abff-4c3b-a0fb-879ee45106d3",
   "metadata": {},
   "source": [
    "### English American Download"
   ]
  },
  {
   "cell_type": "code",
   "execution_count": 23,
   "id": "680b4b25-934a-4130-a589-b49b74fdb212",
   "metadata": {},
   "outputs": [],
   "source": [
    "english_ws_items <- wordbankr::get_item_data(\"English (American)\", \"WS\")\n",
    "write.csv(english_ws_items, path(english_na, \"cdi-ws.csv\"))\n",
    "# \n",
    "english_wg_items <- wordbankr::get_item_data(\"English (American)\", \"WG\")\n",
    "write.csv(english_ws_items, path(english_na, \"cdi-wg.csv\"))\n",
    "#\n",
    "english_wgshort_items <- wordbankr::get_item_data(\"English (American)\", \"WSShort\")\n",
    "write.csv(english_ws_items, path(english_na, \"cdi-wsshort.csv\"))\n",
    "#\n",
    "english_wgshort_items <- wordbankr::get_item_data(\"English (American)\", \"WGShort\")\n",
    "write.csv(english_ws_items, path(english_na, \"cdi-wgshort.csv\"))"
   ]
  },
  {
   "cell_type": "markdown",
   "id": "d2bcdfa0-c5c1-4655-a673-8d62a58b5188",
   "metadata": {},
   "source": [
    "### English British Download"
   ]
  },
  {
   "cell_type": "code",
   "execution_count": 19,
   "id": "9165e911-191f-4fe8-9c42-8af244bf7a81",
   "metadata": {},
   "outputs": [],
   "source": [
    "english_ws_items <- wordbankr::get_item_data(\"English (British)\", \"TEDS Twos\")\n",
    "write.csv(english_ws_items, path(english_br, \"cdi-ws-td2.csv\"))\n",
    "#\n",
    "english_ws_items <- wordbankr::get_item_data(\"English (British)\", \"TEDS Threes\")\n",
    "write.csv(english_ws_items, path(english_br, \"cdi-ws-td3.csv\"))\n",
    "#\n",
    "english_ws_items <- wordbankr::get_item_data(\"English (British)\", \"Oxford CDI\")\n",
    "write.csv(english_ws_items, path(english_br, \"cdi-wg-oxphrd.csv\"))\n",
    "# \n",
    "english_ws_items <- wordbankr::get_item_data(\"English (British)\", \"OxfordShort\")\n",
    "write.csv(english_ws_items, path(english_br, \"cdi-wgshort-oxphrd.csv\"))"
   ]
  },
  {
   "cell_type": "code",
   "execution_count": 1,
   "id": "cea17fd8-867a-489e-ac42-3b07266bfdfe",
   "metadata": {},
   "outputs": [
    {
     "ename": "ERROR",
     "evalue": "Error in loadNamespace(x): there is no package called ‘wordbankr’\n",
     "output_type": "error",
     "traceback": [
      "Error in loadNamespace(x): there is no package called ‘wordbankr’\nTraceback:\n",
      "1. loadNamespace(x)",
      "2. withRestarts(stop(cond), retry_loadNamespace = function() NULL)",
      "3. withOneRestart(expr, restarts[[1L]])",
      "4. doWithOneRestart(return(expr), restart)"
     ]
    }
   ],
   "source": [
    "english_ws_items <- wordbankr::get_item_data(\"English (American)\", \"WS\")\n",
    "english_ws_items"
   ]
  },
  {
   "cell_type": "code",
   "execution_count": null,
   "id": "4abaa524-27d5-4c98-9400-fe88dad95ab9",
   "metadata": {},
   "outputs": [],
   "source": []
  }
 ],
 "metadata": {
  "kernelspec": {
   "display_name": "Python 3 (ipykernel)",
   "language": "python",
   "name": "python3"
  },
  "language_info": {
   "codemirror_mode": {
    "name": "ipython",
    "version": 3
   },
   "file_extension": ".py",
   "mimetype": "text/x-python",
   "name": "python",
   "nbconvert_exporter": "python",
   "pygments_lexer": "ipython3",
   "version": "3.12.1"
  }
 },
 "nbformat": 4,
 "nbformat_minor": 5
}
