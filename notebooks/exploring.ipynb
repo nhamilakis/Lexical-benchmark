{
 "cells": [
  {
   "cell_type": "code",
   "execution_count": 1,
   "id": "c90be2bf-8421-4548-b962-f7eef3450ef7",
   "metadata": {},
   "outputs": [],
   "source": [
    "from rich.console import Console\n",
    "from rich.progress import track\n",
    "import collections\n",
    "import itertools\n",
    "from lexical_benchmark import settings\n",
    "import re\n",
    "\n",
    "root_dir = settings.PATH.raw_childes\n",
    "def all_files():\n",
    "    return itertools.chain(\n",
    "        (root_dir / \"Eng-NA/child\").glob(\"*.txt\"),\n",
    "        (root_dir / \"Eng-NA/adult\").glob(\"*.raw\"),\n",
    "        (root_dir / \"Eng-UK/child\").glob(\"*.raw\"),\n",
    "        (root_dir / \"Eng-UK/adult\").glob(\"*.raw\")\n",
    "    )\n"
   ]
  },
  {
   "cell_type": "code",
   "execution_count": 18,
   "id": "bc8f4b21-e08f-4d1e-a0b7-8c0e0c56fbc0",
   "metadata": {},
   "outputs": [
    {
     "data": {
      "application/vnd.jupyter.widget-view+json": {
       "model_id": "c0a797c5d4254597a5dd45132edbbc6c",
       "version_major": 2,
       "version_minor": 0
      },
      "text/plain": [
       "Output()"
      ]
     },
     "metadata": {},
     "output_type": "display_data"
    },
    {
     "data": {
      "text/html": [
       "<pre style=\"white-space:pre;overflow-x:auto;line-height:normal;font-family:Menlo,'DejaVu Sans Mono',consolas,'Courier New',monospace\"></pre>\n"
      ],
      "text/plain": []
     },
     "metadata": {},
     "output_type": "display_data"
    },
    {
     "data": {
      "text/html": [
       "<pre style=\"white-space:pre;overflow-x:auto;line-height:normal;font-family:Menlo,'DejaVu Sans Mono',consolas,'Courier New',monospace\">\n",
       "</pre>\n"
      ],
      "text/plain": [
       "\n"
      ]
     },
     "metadata": {},
     "output_type": "display_data"
    },
    {
     "name": "stdout",
     "output_type": "stream",
     "text": [
      "@ tags extracted\n",
      "Counter({'o': 45394, 'l': 40297, 'p': 23193, 'c': 20063, 'q': 5634, 'f': 5407, 'd': 4768, 'wp': 4704, 'b': 3230, 's': 3049, 'si': 2449, 'n': 2088, 'i': 839, 'u': 714, 't': 508, 'z': 328, 'k': 232, 'x': 64, 'g': 1, 'm': 1})\n"
     ]
    },
    {
     "data": {
      "text/plain": [
       "20"
      ]
     },
     "execution_count": 18,
     "metadata": {},
     "output_type": "execute_result"
    }
   ],
   "source": [
    "match_pattern = re.compile(r\"(\\w+)@(\\w+)\")\n",
    "patterns = []\n",
    "\n",
    "for file in track(all_files(), description=\"Extracting all tags...\"):\n",
    "    for line in file.read_text().splitlines():\n",
    "        matched = match_pattern.findall(line)\n",
    "        for _, tag in matched:\n",
    "            patterns.append(tag)\n",
    "\n",
    "print(\"@ tags extracted\")\n",
    "all_tags = collections.Counter(patterns)\n",
    "print(all_tags)\n",
    "len(all_tags)"
   ]
  },
  {
   "cell_type": "code",
   "execution_count": 9,
   "id": "f5cdb1c9-53b1-4936-959d-71e207c8ad1e",
   "metadata": {},
   "outputs": [
    {
     "data": {
      "image/png": "[encoded data removed]",
      "text/plain": [
       "<Figure size 1000x600 with 1 Axes>"
      ]
     },
     "metadata": {},
     "output_type": "display_data"
    }
   ],
   "source": [
    "%matplotlib inline\n",
    "import matplotlib.pyplot as plt\n",
    "\n",
    "sorted_words = sorted(wc.items(), key=lambda x: x[1], reverse=True)\n",
    "tags, frequencies = zip(*sorted_words, strict=True)\n",
    "plt.figure(figsize=(10, 6))\n",
    "plt.bar(tags, frequencies)\n",
    "plt.xlabel(\"TAG\")\n",
    "plt.ylabel(\"Frequency\")\n",
    "plt.title(\"Tag Frequency Distribution (ALL)\")\n",
    "plt.xticks(rotation=90)\n",
    "plt.savefig('img/tag_frequency.svg', bbox_inches='tight', pad_inches=1, format='svg')"
   ]
  },
  {
   "cell_type": "markdown",
   "id": "516d8e7b-d453-4268-871d-7a17fe90106d",
   "metadata": {},
   "source": [
    "### Search tags"
   ]
  },
  {
   "cell_type": "code",
   "execution_count": 22,
   "id": "3fa88eb4-3bf9-4072-942e-4fb3a61cdf2a",
   "metadata": {},
   "outputs": [
    {
     "data": {
      "application/vnd.jupyter.widget-view+json": {
       "model_id": "8c441f93da7f46ec883b7f5ecd9f7a6c",
       "version_major": 2,
       "version_minor": 0
      },
      "text/plain": [
       "Output()"
      ]
     },
     "metadata": {},
     "output_type": "display_data"
    },
    {
     "data": {
      "text/html": [
       "<pre style=\"white-space:pre;overflow-x:auto;line-height:normal;font-family:Menlo,'DejaVu Sans Mono',consolas,'Courier New',monospace\"></pre>\n"
      ],
      "text/plain": []
     },
     "metadata": {},
     "output_type": "display_data"
    },
    {
     "data": {
      "text/html": [
       "<pre style=\"white-space:pre;overflow-x:auto;line-height:normal;font-family:Menlo,'DejaVu Sans Mono',consolas,'Courier New',monospace\">\n",
       "</pre>\n"
      ],
      "text/plain": [
       "\n"
      ]
     },
     "metadata": {},
     "output_type": "display_data"
    },
    {
     "name": "stdout",
     "output_type": "stream",
     "text": [
      "Items extracted\n"
     ]
    },
    {
     "data": {
      "text/plain": [
       "0"
      ]
     },
     "execution_count": 22,
     "metadata": {},
     "output_type": "execute_result"
    }
   ],
   "source": [
    "match_pattern = re.compile(r\"\\s\\&\\{\\w+\\s\")\n",
    "tags = []\n",
    "\n",
    "for file in track(all_files(), description=\"Extracting pattern...\"):\n",
    "    for line in file.read_text().splitlines():\n",
    "        matched = match_pattern.findall(line)\n",
    "        tags.extend([(file.name, tag) for tag in matched])\n",
    "\n",
    "print(\"Items extracted\")\n",
    "len(tags)"
   ]
  },
  {
   "cell_type": "code",
   "execution_count": 12,
   "id": "4221b81c-4709-4446-8098-a8e7d7ac28ec",
   "metadata": {
    "editable": true,
    "slideshow": {
     "slide_type": ""
    },
    "tags": []
   },
   "outputs": [
    {
     "data": {
      "image/png": "[encoded data removed]",
      "text/plain": [
       "<Figure size 1000x600 with 1 Axes>"
      ]
     },
     "metadata": {},
     "output_type": "display_data"
    }
   ],
   "source": [
    "%matplotlib inline\n",
    "import matplotlib.pyplot as plt\n",
    "import collections\n",
    "\n",
    "wc = collections.Counter([w.replace('&+', '') for _, w in tags])\n",
    "sorted_items = sorted(wc.items(), key=lambda x: x[1], reverse=True)\n",
    "sorted_items = sorted_items[-60:]\n",
    "_items, _frequencies = zip(*sorted_items, strict=True)\n",
    "plt.figure(figsize=(10, 6))\n",
    "plt.bar(_items, _frequencies)\n",
    "plt.xlabel(\"&+ Words\")\n",
    "plt.ylabel(\"Frequency\")\n",
    "plt.title(\"&+ Word Frequency Distribution (ALL)\")\n",
    "plt.xticks(rotation=90)\n",
    "plt.savefig('img/ommited_frequency.svg', bbox_inches='tight', pad_inches=1, format='svg')"
   ]
  },
  {
   "cell_type": "markdown",
   "id": "46f3342b-d8c9-43bf-a3de-793fad62f050",
   "metadata": {},
   "source": [
    "### Search Word Stress "
   ]
  },
  {
   "cell_type": "code",
   "execution_count": 39,
   "id": "bdf42744-0962-469d-af8e-ca2606502d93",
   "metadata": {},
   "outputs": [
    {
     "data": {
      "application/vnd.jupyter.widget-view+json": {
       "model_id": "067b82416c6a49f295345028a34b9dd9",
       "version_major": 2,
       "version_minor": 0
      },
      "text/plain": [
       "Output()"
      ]
     },
     "metadata": {},
     "output_type": "display_data"
    },
    {
     "data": {
      "text/html": [
       "<pre style=\"white-space:pre;overflow-x:auto;line-height:normal;font-family:Menlo,'DejaVu Sans Mono',consolas,'Courier New',monospace\"></pre>\n"
      ],
      "text/plain": []
     },
     "metadata": {},
     "output_type": "display_data"
    },
    {
     "data": {
      "text/html": [
       "<pre style=\"white-space:pre;overflow-x:auto;line-height:normal;font-family:Menlo,'DejaVu Sans Mono',consolas,'Courier New',monospace\">\n",
       "</pre>\n"
      ],
      "text/plain": [
       "\n"
      ]
     },
     "metadata": {},
     "output_type": "display_data"
    },
    {
     "name": "stdout",
     "output_type": "stream",
     "text": [
      "Items extracted\n"
     ]
    },
    {
     "data": {
      "text/plain": [
       "39955"
      ]
     },
     "execution_count": 39,
     "metadata": {},
     "output_type": "execute_result"
    }
   ],
   "source": [
    "match_pattern = re.compile(r'\\b(\\w+(:\\w+)+)\\b')\n",
    "things = []\n",
    "\n",
    "for file in track(all_files(), description=\"Extracting pattern...\"):\n",
    "    for line in file.read_text().splitlines():\n",
    "        matched = match_pattern.findall(line)\n",
    "        things.extend([(file.name, tag[0]) for tag in matched])\n",
    "\n",
    "print(\"Items extracted\")\n",
    "len(things)"
   ]
  },
  {
   "cell_type": "code",
   "execution_count": 45,
   "id": "a34cab72-11e4-402a-b2f4-6935488248ca",
   "metadata": {},
   "outputs": [
    {
     "data": {
      "application/vnd.jupyter.widget-view+json": {
       "model_id": "c3c90bf399804376b0294e429c8f55b0",
       "version_major": 2,
       "version_minor": 0
      },
      "text/plain": [
       "Output()"
      ]
     },
     "metadata": {},
     "output_type": "display_data"
    },
    {
     "data": {
      "text/html": [
       "<pre style=\"white-space:pre;overflow-x:auto;line-height:normal;font-family:Menlo,'DejaVu Sans Mono',consolas,'Courier New',monospace\"></pre>\n"
      ],
      "text/plain": []
     },
     "metadata": {},
     "output_type": "display_data"
    },
    {
     "data": {
      "text/html": [
       "<pre style=\"white-space:pre;overflow-x:auto;line-height:normal;font-family:Menlo,'DejaVu Sans Mono',consolas,'Courier New',monospace\">\n",
       "</pre>\n"
      ],
      "text/plain": [
       "\n"
      ]
     },
     "metadata": {},
     "output_type": "display_data"
    },
    {
     "name": "stdout",
     "output_type": "stream",
     "text": [
      "Items extracted\n"
     ]
    },
    {
     "data": {
      "text/plain": [
       "13"
      ]
     },
     "execution_count": 45,
     "metadata": {},
     "output_type": "execute_result"
    }
   ],
   "source": [
    "match_pattern = re.compile(r'\\s:\\s')\n",
    "things = []\n",
    "\n",
    "for file in track(all_files(), description=\"Extracting pattern...\"):\n",
    "    for line in file.read_text().splitlines():\n",
    "        matched = match_pattern.findall(line)\n",
    "        things.extend([(file.name, tag) for tag in matched])\n",
    "\n",
    "print(\"Items extracted\")\n",
    "len(things)"
   ]
  },
  {
   "cell_type": "code",
   "execution_count": 50,
   "id": "71d499dc-fb60-44de-9d0c-6dafd0e533e2",
   "metadata": {},
   "outputs": [
    {
     "data": {
      "application/vnd.jupyter.widget-view+json": {
       "model_id": "76f9afeda7754fd39ffcc69811ad6de8",
       "version_major": 2,
       "version_minor": 0
      },
      "text/plain": [
       "Output()"
      ]
     },
     "metadata": {},
     "output_type": "display_data"
    },
    {
     "data": {
      "text/html": [
       "<pre style=\"white-space:pre;overflow-x:auto;line-height:normal;font-family:Menlo,'DejaVu Sans Mono',consolas,'Courier New',monospace\"></pre>\n"
      ],
      "text/plain": []
     },
     "metadata": {},
     "output_type": "display_data"
    },
    {
     "data": {
      "text/html": [
       "<pre style=\"white-space:pre;overflow-x:auto;line-height:normal;font-family:Menlo,'DejaVu Sans Mono',consolas,'Courier New',monospace\">\n",
       "</pre>\n"
      ],
      "text/plain": [
       "\n"
      ]
     },
     "metadata": {},
     "output_type": "display_data"
    },
    {
     "name": "stdout",
     "output_type": "stream",
     "text": [
      "Items extracted\n"
     ]
    },
    {
     "data": {
      "text/plain": [
       "0"
      ]
     },
     "execution_count": 50,
     "metadata": {},
     "output_type": "execute_result"
    }
   ],
   "source": [
    "match_pattern = re.compile(r'(%pic:|%txt:)')\n",
    "things = []\n",
    "\n",
    "for file in track(all_files(), description=\"Extracting pattern...\"):\n",
    "    for line in file.read_text().splitlines():\n",
    "        matched = match_pattern.findall(line)\n",
    "        things.extend([(file.name, tag) for tag in matched])\n",
    "\n",
    "print(\"Items extracted\")\n",
    "len(things)"
   ]
  },
  {
   "cell_type": "code",
   "execution_count": 46,
   "id": "4335b81c-377b-4afd-9a35-e13a0559bad6",
   "metadata": {},
   "outputs": [
    {
     "data": {
      "text/plain": [
       "[('Gleason_Mother_william.raw', ' : '),\n",
       " ('Sprott_12SleepyHeads.raw', ' : '),\n",
       " ('Sprott_12SleepyHeads.raw', ' : '),\n",
       " ('Sprott_05AmyConv.raw', ' : '),\n",
       " ('Sprott_05AmyConv.raw', ' : '),\n",
       " ('Sprott_05AmyConv.raw', ' : '),\n",
       " ('Sprott_05AmyConv.raw', ' : '),\n",
       " ('Sprott_05AmyConv.raw', ' : '),\n",
       " ('Sprott_02MarblePlay.raw', ' : '),\n",
       " ('Sprott_02MarblePlay.raw', ' : '),\n",
       " ('Hall_BlackWork_pag.raw', ' : '),\n",
       " ('Hall_BlackWork_pag.raw', ' : '),\n",
       " ('Hall_BlackWork_pag.raw', ' : ')]"
      ]
     },
     "execution_count": 46,
     "metadata": {},
     "output_type": "execute_result"
    }
   ],
   "source": [
    "things"
   ]
  },
  {
   "cell_type": "code",
   "execution_count": 37,
   "id": "162b7ef8-cd3e-46ac-af00-4c7944a65830",
   "metadata": {},
   "outputs": [
    {
     "name": "stdout",
     "output_type": "stream",
     "text": [
      "Matches for ( football ): []\n",
      "Matches for ( word:word ): ['word:word']\n",
      "Matches for ( ˈˈˈˈˈ ): []\n",
      "Matches for ( wow ): []\n",
      "Matches for ( ): []\n",
      "Matches for ( hˈeˈllˈo ): []\n",
      "Matches for ( w:o:w fˈuˈ:t:bˈaˈll c:a:t:s ): ['w:o:w', 'fˈuˈ:t:bˈaˈll', 'c:a:t:s']\n",
      "Matches for (): []\n",
      "Matches for ( dogs ): []\n",
      "Matches for ( banana yes fudge ): []\n",
      "Matches for ( cat ): []\n",
      "Matches for ( : ): []\n",
      "Matches for ( fuˈdge ): []\n",
      "Matches for ( wordˈword ): []\n",
      "Matches for ( dog ): []\n",
      "Matches for ( w:o:w ): ['w:o:w']\n",
      "Matches for ( dˈog ): []\n",
      "Matches for ( dˈoˈgˈs baˈna:nas ye:s ): ['baˈna:nas', 'ye:s']\n",
      "Matches for ( c:a:t:s ): ['c:a:t:s']\n",
      "Matches for ( ˈ ): []\n",
      "Matches for ( hello ): []\n",
      "Matches for ( fˈuˈ:t:bˈaˈll ): ['fˈuˈ:t:bˈaˈll']\n",
      "Matches for ( dˈoˈgˈs ): []\n",
      "Matches for ( wow football cats ): []\n",
      "Matches for ( yes ): []\n",
      "Matches for ( ca:t ): ['ca:t']\n",
      "Matches for ( ::::: ): []\n",
      "Matches for ( word ): []\n",
      "Matches for ( ye:s ): ['ye:s']\n",
      "Matches for ( dogs banana yes ): []\n",
      "Matches for ( baˈna:nas ): ['baˈna:nas']\n",
      "Matches for ( 123 ): []\n",
      "Matches for ( banana ): []\n",
      "Matches for ( cat dog hello ): []\n",
      "Matches for ( ca:t dˈog hˈeˈllˈo ): ['ca:t']\n",
      "Matches for ( cats ): []\n",
      "Matches for ( abc ): []\n",
      "Matches for ( word word ): []\n",
      "Matches for ( baˈna:nas ye:s fuˈdge ): ['baˈna:nas', 'ye:s']\n"
     ]
    }
   ],
   "source": [
    "import random\n",
    "test_cases = [\n",
    "  \" baˈna:nas \",\n",
    "  \" ye:s \",\n",
    "  \" fuˈdge \",\n",
    "  \" ca:t \",\n",
    "  \" dˈog \",\n",
    "  \" hˈeˈllˈo \",\n",
    "  \" w:o:w \",\n",
    "  \" fˈuˈ:t:bˈaˈll \",\n",
    "  \" c:a:t:s \",\n",
    "  \" dˈoˈgˈs \",\n",
    "  \" baˈna:nas ye:s fuˈdge \",\n",
    "  \" ca:t dˈog hˈeˈllˈo \",\n",
    "  \" w:o:w fˈuˈ:t:bˈaˈll c:a:t:s \",\n",
    "  \" dˈoˈgˈs baˈna:nas ye:s \",\n",
    "  \" ˈ \",\n",
    "  \" : \",\n",
    "  \" ˈˈˈˈˈ \",\n",
    "  \" ::::: \",\n",
    "  \" wordˈword \",\n",
    "  \" word:word \",\n",
    "  \" banana \",\n",
    "    \" yes \",\n",
    "    \" cat \",\n",
    "    \" dog \",\n",
    "    \" hello \",\n",
    "    \" wow \",\n",
    "    \" football \",\n",
    "    \" cats \",\n",
    "    \" dogs \",\n",
    "    \" banana yes fudge \",\n",
    "    \" cat dog hello \",\n",
    "    \" wow football cats \",\n",
    "    \" dogs banana yes \",\n",
    "    \" \",\n",
    "    \"\",\n",
    "    \" word \",\n",
    "    \" word word \",\n",
    "    \" 123 \",\n",
    "    \" abc \"\n",
    "]\n",
    "\n",
    "# match_pattern = re.compile(r'\\b(\\w+[ˈ:]+\\w+)\\b')\n",
    "match_pattern = re.compile(r'\\b(\\w+(:\\w+)+)\\b')\n",
    "random.shuffle(test_cases)\n",
    "for s in test_cases:\n",
    "    matches = match_pattern.findall(s)\n",
    "    print(f'Matches for ({s}): {[t[0] for t in matches]}')"
   ]
  },
  {
   "cell_type": "code",
   "execution_count": 53,
   "id": "2b2a6778-b1e1-45a9-aac0-4571feb47ff7",
   "metadata": {},
   "outputs": [
    {
     "name": "stdout",
     "output_type": "stream",
     "text": [
      "Matches for (Those are some cool kittens %txt: content.txt): [' %txt:']\n",
      "Matches for (Those are some cool kittens %pic: image.jpg , i love kittens): ['%pic:']\n",
      "Matches for (Those are some cool kittens %pic: image.jpg , i love kittens): ['%pic:']\n",
      "Matches for (Those are some cool kittens %pic: image.png): ['%pic:']\n"
     ]
    }
   ],
   "source": [
    "test_cases = [\n",
    "    \"Those are some cool kittens %pic: image.png\", \"Those are some cool kittens %pic: image.jpg , i love kittens\",\n",
    "    \"Those are some cool kittens %txt: content.txt\", \"Those are some cool kittens %pic: image.jpg , i love kittens\"\n",
    "]\n",
    "match_pattern = re.compile(r'%pic:| %txt:')\n",
    "random.shuffle(test_cases)\n",
    "for s in test_cases:\n",
    "    matches = match_pattern.findall(s)\n",
    "    print(f'Matches for ({s}): {matches}')"
   ]
  },
  {
   "cell_type": "code",
   "execution_count": null,
   "id": "3abf8811-2943-4696-a48a-6b198219c40a",
   "metadata": {},
   "outputs": [],
   "source": []
  }
 ],
 "metadata": {
  "kernelspec": {
   "display_name": "Python 3 (ipykernel)",
   "language": "python",
   "name": "python3"
  },
  "language_info": {
   "codemirror_mode": {
    "name": "ipython",
    "version": 3
   },
   "file_extension": ".py",
   "mimetype": "text/x-python",
   "name": "python",
   "nbconvert_exporter": "python",
   "pygments_lexer": "ipython3",
   "version": "3.11.7"
  }
 },
 "nbformat": 4,
 "nbformat_minor": 5
}
