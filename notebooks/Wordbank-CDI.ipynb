{
 "cells": [
  {
   "cell_type": "markdown",
   "id": "bc3a1e29-4742-436e-bdb2-64e8aa443c94",
   "metadata": {},
   "source": [
    "# MB-CDI Dataset Download\n",
    "This notebook contains the instructions to download the data.\n",
    "\n",
    "After downloading the data we end up with the following files :\n",
    "\n",
    "```\n",
    "├── eng-br\n",
    "│   ├── cdi-wg-oxphrd.csv\n",
    "│   ├── cdi-wgshort-oxphrd.csv\n",
    "│   ├── cdi-ws-td2.csv\n",
    "│   └── cdi-ws-td3.csv\n",
    "└── eng-na\n",
    "    ├── cdi-wg.csv\n",
    "    ├── cdi-ws.csv\n",
    "    └── cdi-wsshort.csv\n",
    "```\n",
    "\n",
    "These CSVs have the following columns :\n",
    "\n",
    "- downloaded: a date corresponding to the date it was downloaded.\n",
    "- item_id: the id of the utterance.\n",
    "- item_definition: the definition of the utterance.\n",
    "- category: the category of the utterance.\n",
    "- [16 - 30] these columns correspond to the month of the child the cell values correspond to score based on knowledge of the word.\n",
    "\n",
    "\n",
    "## List of Forms\n",
    "WG: Words & Gestures\n",
    "\n",
    "WS: Words & Sentences\n",
    "\n",
    "\n",
    "\n",
    "| Accent - Form        | Understands                     | Produces                          | AGERANGE (in months) |\n",
    "|----------------------|---------------------------------|-----------------------------------|----------------------|\n",
    "| American(WG)         | <input type=\"checkbox\" checked> | <input type=\"checkbox\"  checked > | 8-18                 |\n",
    "| American(WGShort)    | <input type=\"checkbox\" checked> | <input type=\"checkbox\" checked>   | 16-36                |\n",
    "| American(WS)         | <input type=\"checkbox\">         | <input type=\"checkbox\" checked>   | 16-30                |\n",
    "| American(WSShort)    | <input type=\"checkbox\">         | <input type=\"checkbox\" checked>   | 16-36                |\n",
    "| British(TEDS Twos)   | <input type=\"checkbox\">         | <input type=\"checkbox\" checked>   | 20-35                |\n",
    "| British(TEDS Threes) | <input type=\"checkbox\">         | <input type=\"checkbox\" checked>   | 34-47                |\n",
    "| British(Oxford CDI)  | <input type=\"checkbox\" checked> | <input type=\"checkbox\" checked>   | 12-25                |\n",
    "| British(OxfordShort) | <input type=\"checkbox\" checked> | <input type=\"checkbox\" checked>   | 8-16                 |"
   ]
  },
  {
   "cell_type": "code",
   "execution_count": null,
   "id": "54561741-71e9-4a98-a919-4050852bfbd3",
   "metadata": {},
   "outputs": [],
   "source": []
  }
 ],
 "metadata": {
  "kernelspec": {
   "display_name": "Python 3 (ipykernel)",
   "language": "python",
   "name": "python3"
  },
  "language_info": {
   "codemirror_mode": {
    "name": "ipython",
    "version": 3
   },
   "file_extension": ".py",
   "mimetype": "text/x-python",
   "name": "python",
   "nbconvert_exporter": "python",
   "pygments_lexer": "ipython3",
   "version": "3.11.7"
  }
 },
 "nbformat": 4,
 "nbformat_minor": 5
}
