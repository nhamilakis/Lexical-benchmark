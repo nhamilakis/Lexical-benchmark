{
 "cells": [
  {
   "cell_type": "markdown",
   "id": "f86ce1f9-2de4-4f74-8cf0-cfcecff3d727",
   "metadata": {},
   "source": [
    "# MB-CDI reFormatting\n",
    "\n",
    "WG: Words & Gestures\n",
    "\n",
    "WS: Words & Sentences\n",
    "\n",
    "## List of Forms\n",
    "\n",
    "| Accent - Form        | Understands                     | Produces                          | AGERANGE (in months) |\n",
    "|----------------------|---------------------------------|-----------------------------------|----------------------|\n",
    "| American(WG)         | <input type=\"checkbox\" checked> | <input type=\"checkbox\"  checked > | 8-18                 |\n",
    "| American(WGShort)    | <input type=\"checkbox\" checked> | <input type=\"checkbox\" checked>   | 16-36                |\n",
    "| American(WS)         | <input type=\"checkbox\">         | <input type=\"checkbox\" checked>   | 16-30                |\n",
    "| American(WSShort)    | <input type=\"checkbox\">         | <input type=\"checkbox\" checked>   | 16-36                |\n",
    "| British(TEDS Twos)   | <input type=\"checkbox\">         | <input type=\"checkbox\" checked>   | 20-35                |\n",
    "| British(TEDS Threes) | <input type=\"checkbox\">         | <input type=\"checkbox\" checked>   | 34-47                |\n",
    "| British(Oxford CDI)  | <input type=\"checkbox\" checked> | <input type=\"checkbox\" checked>   | 12-25                |\n",
    "| British(OxfordShort) | <input type=\"checkbox\" checked> | <input type=\"checkbox\" checked>   | 8-16                 |"
   ]
  },
  {
   "cell_type": "code",
   "execution_count": null,
   "id": "54561741-71e9-4a98-a919-4050852bfbd3",
   "metadata": {},
   "outputs": [],
   "source": []
  }
 ],
 "metadata": {
  "kernelspec": {
   "display_name": "Python 3 (ipykernel)",
   "language": "python",
   "name": "python3"
  },
  "language_info": {
   "codemirror_mode": {
    "name": "ipython",
    "version": 3
   },
   "file_extension": ".py",
   "mimetype": "text/x-python",
   "name": "python",
   "nbconvert_exporter": "python",
   "pygments_lexer": "ipython3",
   "version": "3.12.1"
  }
 },
 "nbformat": 4,
 "nbformat_minor": 5
}
