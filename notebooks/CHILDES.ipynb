{
 "cells": [
  {
   "cell_type": "markdown",
   "id": "033e2718-8431-446d-a5b9-87efb435514a",
   "metadata": {},
   "source": [
    "# English CHILDES Dataset reFormatting\n",
    "\n",
    "Extracting speech from the childes corpus and organising it in the following format:\n",
    "\n",
    "```\n",
    "├── Eng-NA\n",
    "│   ├── adult\n",
    "│   │   ├── *.txt\n",
    "│   ├── child\n",
    "│   │   ├── *.txt\n",
    "│   └── metadata.csv\n",
    "└── Eng-UK\n",
    "    ├── adult\n",
    "    │   ├── *.txt\n",
    "    ├── child\n",
    "    │   ├── *.txt\n",
    "    └── metadata.csv\n",
    "```\n",
    "Each first folder corresponds to a Language_Accent.\n",
    "- English North America\n",
    "- English United Kingdom.\n",
    "\n",
    "The `child` folder contains child speech the `adult` folder contains adult speech.\n",
    "File are named after the original CHILDES folders so we do not remove the link between child/adult sets.\n",
    "The metadata folder contains information about contents:\n",
    "\n",
    "| file_id           | lang  child_gender | child_age |         |\n",
    "|-------------------|--------------------|-----------|---------|\n",
    "| Haggerty_haggerty | eng                | female    | 2;07.18 |\n",
    "| Brown_Eve_010600b | eng                | female    | 1;06.00 |\n",
    "| Brown_Eve_010600a | eng                | female    | 1;06.00 |\n",
    "\n",
    "Items that do not have a `child_gender` or `child_age` columns signify those files did not contain child speech."
   ]
  },
  {
   "cell_type": "code",
   "execution_count": 1,
   "id": "faa05e18-ab3e-45b8-a34e-87f0c553ae3d",
   "metadata": {
    "editable": true,
    "slideshow": {
     "slide_type": ""
    },
    "tags": []
   },
   "outputs": [
    {
     "data": {
      "application/vnd.jupyter.widget-view+json": {
       "model_id": "45ff4ae26d0d47099ff95e8b86bcb487",
       "version_major": 2,
       "version_minor": 0
      },
      "text/plain": [
       "Output()"
      ]
     },
     "metadata": {},
     "output_type": "display_data"
    },
    {
     "data": {
      "text/html": [
       "<pre style=\"white-space:pre;overflow-x:auto;line-height:normal;font-family:Menlo,'DejaVu Sans Mono',consolas,'Courier New',monospace\"></pre>\n"
      ],
      "text/plain": []
     },
     "metadata": {},
     "output_type": "display_data"
    },
    {
     "data": {
      "text/html": [
       "<pre style=\"white-space:pre;overflow-x:auto;line-height:normal;font-family:Menlo,'DejaVu Sans Mono',consolas,'Courier New',monospace\">\n",
       "</pre>\n"
      ],
      "text/plain": [
       "\n"
      ]
     },
     "metadata": {},
     "output_type": "display_data"
    },
    {
     "data": {
      "application/vnd.jupyter.widget-view+json": {
       "model_id": "74b6ab0f446349c4870190818fd913ee",
       "version_major": 2,
       "version_minor": 0
      },
      "text/plain": [
       "Output()"
      ]
     },
     "metadata": {},
     "output_type": "display_data"
    },
    {
     "data": {
      "text/html": [
       "<pre style=\"white-space:pre;overflow-x:auto;line-height:normal;font-family:Menlo,'DejaVu Sans Mono',consolas,'Courier New',monospace\"></pre>\n"
      ],
      "text/plain": []
     },
     "metadata": {},
     "output_type": "display_data"
    },
    {
     "data": {
      "text/html": [
       "<pre style=\"white-space:pre;overflow-x:auto;line-height:normal;font-family:Menlo,'DejaVu Sans Mono',consolas,'Courier New',monospace\">\n",
       "</pre>\n"
      ],
      "text/plain": [
       "\n"
      ]
     },
     "metadata": {},
     "output_type": "display_data"
    },
    {
     "name": "stdout",
     "output_type": "stream",
     "text": [
      "Done.\n"
     ]
    }
   ],
   "source": [
    "import platform\n",
    "\n",
    "from lexical_benchmark import settings\n",
    "from lexical_benchmark.datasets.human import childes\n",
    "from lexical_benchmark.utils import timed_status\n",
    "\n",
    "assert (\n",
    "    platform.node() in settings.PATH.KNOWN_HOSTS\n",
    "), \"Not in a known device, must provide custom PATH locations\"\n",
    "\n",
    "prep = childes.CHILDESPreparation()\n",
    "prep.load_dir(settings.PATH.source_childes / \"Eng-NA\", \"Eng-NA\")\n",
    "prep.load_dir(settings.PATH.source_childes / \"Eng-UK\", \"Eng-UK\")\n",
    "with timed_status(status=\"Extracting Speech & Formatting CHILDES\", complete_status=\"Finished building raw/CHILDES\"):\n",
    "    prep.export(settings.PATH.raw_childes)"
   ]
  },
  {
   "cell_type": "markdown",
   "id": "d533a51e-e671-408b-9b12-f9969a62b608",
   "metadata": {},
   "source": [
    "# Dataset Cleaning\n",
    "\n",
    "Using the given rules we create a clean version (speech only) of the dataset.\n",
    "\n",
    "The rules can be found [here](https://github.com/nhamilakis/Lexical-benchmark/blob/dev/docs/datasets/childes.md)"
   ]
  },
  {
   "cell_type": "code",
   "execution_count": 1,
   "id": "25db87ca-c01a-4b77-b265-7b0d56972d53",
   "metadata": {},
   "outputs": [
    {
     "data": {
      "application/vnd.jupyter.widget-view+json": {
       "model_id": "",
       "version_major": 2,
       "version_minor": 0
      },
      "text/plain": [
       "Output()"
      ]
     },
     "metadata": {},
     "output_type": "display_data"
    },
    {
     "data": {
      "text/html": [
       "<pre style=\"white-space:pre;overflow-x:auto;line-height:normal;font-family:Menlo,'DejaVu Sans Mono',consolas,'Courier New',monospace\"></pre>\n"
      ],
      "text/plain": []
     },
     "metadata": {},
     "output_type": "display_data"
    },
    {
     "data": {
      "text/html": [
       "<pre style=\"white-space:pre;overflow-x:auto;line-height:normal;font-family:Menlo,'DejaVu Sans Mono',consolas,'Courier New',monospace\">Finished creating clean/CHILDES <span style=\"font-weight: bold\">(</span>Total time: <span style=\"color: #008080; text-decoration-color: #008080; font-weight: bold\">21</span> minutes and <span style=\"color: #008080; text-decoration-color: #008080; font-weight: bold\">55</span> seconds<span style=\"font-weight: bold\">)</span>\n",
       "</pre>\n"
      ],
      "text/plain": [
       "Finished creating clean/CHILDES \u001b[1m(\u001b[0mTotal time: \u001b[1;36m21\u001b[0m minutes and \u001b[1;36m55\u001b[0m seconds\u001b[1m)\u001b[0m\n"
      ]
     },
     "metadata": {},
     "output_type": "display_data"
    }
   ],
   "source": [
    "import platform\n",
    "\n",
    "from lexical_benchmark import settings\n",
    "from lexical_benchmark.datasets.human import childes\n",
    "from lexical_benchmark.utils import timed_status\n",
    "\n",
    "assert platform.node() in settings.PATH.KNOWN_HOSTS, \"Code Running in a unknown device, you must provide custom PATH locations\"\n",
    "\n",
    "cleaner = childes.CHILDESCleaner()\n",
    "\n",
    "with timed_status(status=\"Cleaning CHILDES dataset\", complete_status=\"Finished creating clean/CHILDES\"):\n",
    "    cleaner.mk_clean()"
   ]
  },
  {
   "cell_type": "markdown",
   "id": "a3c7e6a7-aa21-40f3-b823-48f8c30e1c7b",
   "metadata": {},
   "source": [
    "### Word Filtering"
   ]
  },
  {
   "cell_type": "markdown",
   "id": "e18cc109-dbad-420e-9f3d-f87a7ff51906",
   "metadata": {},
   "source": [
    "#### Build CHILDES Extras dictionairy"
   ]
  },
  {
   "cell_type": "code",
   "execution_count": 2,
   "id": "508d0dd0-5105-4630-825d-43b18f411af3",
   "metadata": {},
   "outputs": [
    {
     "data": {
      "application/vnd.jupyter.widget-view+json": {
       "model_id": "",
       "version_major": 2,
       "version_minor": 0
      },
      "text/plain": [
       "Output()"
      ]
     },
     "metadata": {},
     "output_type": "display_data"
    },
    {
     "data": {
      "text/html": [
       "<pre style=\"white-space:pre;overflow-x:auto;line-height:normal;font-family:Menlo,'DejaVu Sans Mono',consolas,'Courier New',monospace\"></pre>\n"
      ],
      "text/plain": []
     },
     "metadata": {},
     "output_type": "display_data"
    },
    {
     "data": {
      "text/html": [
       "<pre style=\"white-space:pre;overflow-x:auto;line-height:normal;font-family:Menlo,'DejaVu Sans Mono',consolas,'Courier New',monospace\">Completed Building childes_extra words <span style=\"font-weight: bold\">(</span>Total time: <span style=\"color: #008080; text-decoration-color: #008080; font-weight: bold\">18</span> seconds<span style=\"font-weight: bold\">)</span>\n",
       "</pre>\n"
      ],
      "text/plain": [
       "Completed Building childes_extra words \u001b[1m(\u001b[0mTotal time: \u001b[1;36m18\u001b[0m seconds\u001b[1m)\u001b[0m\n"
      ]
     },
     "metadata": {},
     "output_type": "display_data"
    },
    {
     "name": "stdout",
     "output_type": "stream",
     "text": [
      "Found len(childes_extras_lexique.words)=22038 words from childes meta logs.\n",
      "Cached dictionairy with id:: e9c0d55cf62ba9e937fe273de7626661\n"
     ]
    }
   ],
   "source": [
    "from lexical_benchmark.datasets.human import childes\n",
    "from lexical_benchmark.utils import timed_status\n",
    "\n",
    "childes_extras_lexique = childes.CHILDESExtrasLexicon()\n",
    "with timed_status(status=\"Loading CHILDES extra words\", complete_status=\"Completed Building childes_extra words\"):\n",
    "    childes_extras_lexique.add_lang(\"Eng-NA\", \"adult\")\n",
    "    childes_extras_lexique.add_lang(\"Eng-NA\", \"child\")\n",
    "    childes_extras_lexique.add_lang(\"Eng-UK\", \"adult\")\n",
    "    childes_extras_lexique.add_lang(\"Eng-UK\", \"child\")\n",
    "    # Cache dictionairy to make loading faster\n",
    "    hash_id = childes_extras_lexique.cache_current()\n",
    "\n",
    "print(f\"Found {len(childes_extras_lexique.words)=} words from childes meta logs.\")\n",
    "print(f\"Cached dictionairy with id:: {hash_id}\")"
   ]
  },
  {
   "cell_type": "markdown",
   "id": "d6730557-da9f-4c32-9e86-10394a3aeda7",
   "metadata": {},
   "source": [
    "#### Filter words"
   ]
  },
  {
   "cell_type": "code",
   "execution_count": 3,
   "id": "0c8498dc-43fe-41e1-a4cc-220e701e0fc4",
   "metadata": {},
   "outputs": [
    {
     "data": {
      "application/vnd.jupyter.widget-view+json": {
       "model_id": "",
       "version_major": 2,
       "version_minor": 0
      },
      "text/plain": [
       "Output()"
      ]
     },
     "metadata": {},
     "output_type": "display_data"
    },
    {
     "data": {
      "text/html": [
       "<pre style=\"white-space:pre;overflow-x:auto;line-height:normal;font-family:Menlo,'DejaVu Sans Mono',consolas,'Courier New',monospace\"></pre>\n"
      ],
      "text/plain": []
     },
     "metadata": {},
     "output_type": "display_data"
    },
    {
     "data": {
      "text/html": [
       "<pre style=\"white-space:pre;overflow-x:auto;line-height:normal;font-family:Menlo,'DejaVu Sans Mono',consolas,'Courier New',monospace\">Completed Eng-NA/adult <span style=\"font-weight: bold\">(</span>Total time: <span style=\"color: #008080; text-decoration-color: #008080; font-weight: bold\">49</span> seconds<span style=\"font-weight: bold\">)</span>\n",
       "</pre>\n"
      ],
      "text/plain": [
       "Completed Eng-NA/adult \u001b[1m(\u001b[0mTotal time: \u001b[1;36m49\u001b[0m seconds\u001b[1m)\u001b[0m\n"
      ]
     },
     "metadata": {},
     "output_type": "display_data"
    },
    {
     "data": {
      "application/vnd.jupyter.widget-view+json": {
       "model_id": "",
       "version_major": 2,
       "version_minor": 0
      },
      "text/plain": [
       "Output()"
      ]
     },
     "metadata": {},
     "output_type": "display_data"
    },
    {
     "data": {
      "text/html": [
       "<pre style=\"white-space:pre;overflow-x:auto;line-height:normal;font-family:Menlo,'DejaVu Sans Mono',consolas,'Courier New',monospace\"></pre>\n"
      ],
      "text/plain": []
     },
     "metadata": {},
     "output_type": "display_data"
    },
    {
     "data": {
      "text/html": [
       "<pre style=\"white-space:pre;overflow-x:auto;line-height:normal;font-family:Menlo,'DejaVu Sans Mono',consolas,'Courier New',monospace\">Completed Eng-NA/child <span style=\"font-weight: bold\">(</span>Total time: <span style=\"color: #008080; text-decoration-color: #008080; font-weight: bold\">46</span> seconds<span style=\"font-weight: bold\">)</span>\n",
       "</pre>\n"
      ],
      "text/plain": [
       "Completed Eng-NA/child \u001b[1m(\u001b[0mTotal time: \u001b[1;36m46\u001b[0m seconds\u001b[1m)\u001b[0m\n"
      ]
     },
     "metadata": {},
     "output_type": "display_data"
    },
    {
     "data": {
      "application/vnd.jupyter.widget-view+json": {
       "model_id": "",
       "version_major": 2,
       "version_minor": 0
      },
      "text/plain": [
       "Output()"
      ]
     },
     "metadata": {},
     "output_type": "display_data"
    },
    {
     "data": {
      "text/html": [
       "<pre style=\"white-space:pre;overflow-x:auto;line-height:normal;font-family:Menlo,'DejaVu Sans Mono',consolas,'Courier New',monospace\"></pre>\n"
      ],
      "text/plain": []
     },
     "metadata": {},
     "output_type": "display_data"
    },
    {
     "data": {
      "text/html": [
       "<pre style=\"white-space:pre;overflow-x:auto;line-height:normal;font-family:Menlo,'DejaVu Sans Mono',consolas,'Courier New',monospace\">Completed Eng-UK/adult <span style=\"font-weight: bold\">(</span>Total time: <span style=\"color: #008080; text-decoration-color: #008080; font-weight: bold\">27</span> seconds<span style=\"font-weight: bold\">)</span>\n",
       "</pre>\n"
      ],
      "text/plain": [
       "Completed Eng-UK/adult \u001b[1m(\u001b[0mTotal time: \u001b[1;36m27\u001b[0m seconds\u001b[1m)\u001b[0m\n"
      ]
     },
     "metadata": {},
     "output_type": "display_data"
    },
    {
     "data": {
      "application/vnd.jupyter.widget-view+json": {
       "model_id": "",
       "version_major": 2,
       "version_minor": 0
      },
      "text/plain": [
       "Output()"
      ]
     },
     "metadata": {},
     "output_type": "display_data"
    },
    {
     "data": {
      "text/html": [
       "<pre style=\"white-space:pre;overflow-x:auto;line-height:normal;font-family:Menlo,'DejaVu Sans Mono',consolas,'Courier New',monospace\"></pre>\n"
      ],
      "text/plain": []
     },
     "metadata": {},
     "output_type": "display_data"
    },
    {
     "data": {
      "text/html": [
       "<pre style=\"white-space:pre;overflow-x:auto;line-height:normal;font-family:Menlo,'DejaVu Sans Mono',consolas,'Courier New',monospace\">Completed Eng-UK/child <span style=\"font-weight: bold\">(</span>Total time: <span style=\"color: #008080; text-decoration-color: #008080; font-weight: bold\">19</span> seconds<span style=\"font-weight: bold\">)</span>\n",
       "</pre>\n"
      ],
      "text/plain": [
       "Completed Eng-UK/child \u001b[1m(\u001b[0mTotal time: \u001b[1;36m19\u001b[0m seconds\u001b[1m)\u001b[0m\n"
      ]
     },
     "metadata": {},
     "output_type": "display_data"
    }
   ],
   "source": [
    "from lexical_benchmark.datasets import utils\n",
    "from lexical_benchmark.datasets.human import childes\n",
    "from lexical_benchmark.utils import timed_status\n",
    "\n",
    "dataset = childes.CleanCHILDESFiles()\n",
    "en_cleaner = utils.DictionairyCleaner(lang=\"EN\", childes_extra_id=\"e9c0d55cf62ba9e937fe273de7626661\")\n",
    "\n",
    "with timed_status(status=\"Filtering Eng-NA/adult\", complete_status=\"Completed Eng-NA/adult\"):\n",
    "    dataset.filter_words(lang_accent=\"Eng-NA\", speech_type=\"adult\", cleaner=en_cleaner)\n",
    "\n",
    "with timed_status(status=\"Filtering Eng-NA/child\", complete_status=\"Completed Eng-NA/child\"):\n",
    "    dataset.filter_words(lang_accent=\"Eng-NA\", speech_type=\"child\", cleaner=en_cleaner)\n",
    "\n",
    "with timed_status(status=\"Filtering Eng-UK/adult\", complete_status=\"Completed Eng-UK/adult\"):\n",
    "    dataset.filter_words(lang_accent=\"Eng-UK\", speech_type=\"adult\", cleaner=en_cleaner)\n",
    "\n",
    "with timed_status(status=\"Filtering Eng-UK/child\", complete_status=\"Completed Eng-UK/child\"):\n",
    "    dataset.filter_words(lang_accent=\"Eng-UK\", speech_type=\"child\", cleaner=en_cleaner)"
   ]
  },
  {
   "cell_type": "markdown",
   "id": "2835d260-96b5-444e-818e-9e9c3a5db13c",
   "metadata": {},
   "source": [
    "#### Computing cleanup stats"
   ]
  },
  {
   "cell_type": "code",
   "execution_count": 4,
   "id": "2c354dc8-1ee0-46d1-952f-3b89c3472908",
   "metadata": {},
   "outputs": [
    {
     "name": "stdout",
     "output_type": "stream",
     "text": [
      "---- Eng-NA/adult ----\n",
      "- Kept 7_916_864/7_953_776 words\n",
      "- Rejected 36_912/7_953_776 words\n",
      "- We have a 0.46% of word elimination !!\n",
      "- We have a 99.54% of word retention !!\n",
      "-------------------------\n",
      "---- Eng-UK/adult ----\n",
      "- Kept 8_020_622/8_041_204 words\n",
      "- Rejected 20_582/8_041_204 words\n",
      "- We have a 0.26% of word elimination !!\n",
      "- We have a 99.74% of word retention !!\n",
      "-------------------------\n",
      "---- Eng-NA/child ----\n",
      "- Kept 2_877_439/2_908_126 words\n",
      "- Rejected 30_687/2_908_126 words\n",
      "- We have a 1.06% of word elimination !!\n",
      "- We have a 98.94% of word retention !!\n",
      "-------------------------\n",
      "---- Eng-UK/child ----\n",
      "- Kept 2_954_477/2_965_974 words\n",
      "- Rejected 11_497/2_965_974 words\n",
      "- We have a 0.39% of word elimination !!\n",
      "- We have a 99.61% of word retention !!\n",
      "-------------------------\n"
     ]
    }
   ],
   "source": [
    "from rich.console import Console\n",
    "from lexical_benchmark.datasets.human import childes\n",
    "from lexical_benchmark.utils import timed_status\n",
    "\n",
    "dataset = childes.CleanCHILDESFiles()\n",
    "\n",
    "\n",
    "def show_stats(lang_accent: str, speech_type: str) -> None:\n",
    "    items = dataset.word_stats(lang_accent=lang_accent, speech_type=speech_type)\n",
    "    # Print counts\n",
    "    all_count = items[\"all\"]\n",
    "    bad_count = items[\"bad\"]\n",
    "    good_count = items[\"good\"]\n",
    "    percent_bad = (bad_count / all_count)\n",
    "    percent_good = (good_count / all_count)\n",
    "\n",
    "    print(f\"---- {lang_accent}/{speech_type} ----\")\n",
    "    print(f\"- Kept {good_count:_}/{all_count:_} words\")\n",
    "    print(f\"- Rejected {bad_count:_}/{all_count:_} words\")\n",
    "    print(f\"- We have a {percent_bad:.2%} of word elimination !!\")\n",
    "    print(f\"- We have a {percent_good:.2%} of word retention !!\")\n",
    "    print(\"-\" * 25)\n",
    "\n",
    "\n",
    "# Show stats\n",
    "show_stats(\"Eng-NA\", \"adult\")\n",
    "show_stats(\"Eng-UK\", \"adult\")\n",
    "show_stats(\"Eng-NA\", \"child\")\n",
    "show_stats(\"Eng-UK\", \"child\")"
   ]
  },
  {
   "cell_type": "markdown",
   "id": "b340dd18-b2c2-40f9-a15c-002e6db7f40e",
   "metadata": {},
   "source": [
    "#### Export Word Frequencies"
   ]
  },
  {
   "cell_type": "code",
   "execution_count": 6,
   "id": "79802be1-f7c7-4df1-95ac-dccbf5c099c8",
   "metadata": {},
   "outputs": [
    {
     "data": {
      "application/vnd.jupyter.widget-view+json": {
       "model_id": "",
       "version_major": 2,
       "version_minor": 0
      },
      "text/plain": [
       "Output()"
      ]
     },
     "metadata": {},
     "output_type": "display_data"
    },
    {
     "data": {
      "text/html": [
       "<pre style=\"white-space:pre;overflow-x:auto;line-height:normal;font-family:Menlo,'DejaVu Sans Mono',consolas,'Courier New',monospace\"></pre>\n"
      ],
      "text/plain": []
     },
     "metadata": {},
     "output_type": "display_data"
    },
    {
     "data": {
      "text/html": [
       "<pre style=\"white-space:pre;overflow-x:auto;line-height:normal;font-family:Menlo,'DejaVu Sans Mono',consolas,'Courier New',monospace\">Saved clean WF in childes_wf <span style=\"font-weight: bold\">(</span>Total time: <span style=\"color: #008080; text-decoration-color: #008080; font-weight: bold\">1</span> seconds<span style=\"font-weight: bold\">)</span>\n",
       "</pre>\n"
      ],
      "text/plain": [
       "Saved clean WF in childes_wf \u001b[1m(\u001b[0mTotal time: \u001b[1;36m1\u001b[0m seconds\u001b[1m)\u001b[0m\n"
      ]
     },
     "metadata": {},
     "output_type": "display_data"
    },
    {
     "data": {
      "application/vnd.jupyter.widget-view+json": {
       "model_id": "",
       "version_major": 2,
       "version_minor": 0
      },
      "text/plain": [
       "Output()"
      ]
     },
     "metadata": {},
     "output_type": "display_data"
    },
    {
     "data": {
      "text/html": [
       "<pre style=\"white-space:pre;overflow-x:auto;line-height:normal;font-family:Menlo,'DejaVu Sans Mono',consolas,'Courier New',monospace\"></pre>\n"
      ],
      "text/plain": []
     },
     "metadata": {},
     "output_type": "display_data"
    },
    {
     "data": {
      "text/html": [
       "<pre style=\"white-space:pre;overflow-x:auto;line-height:normal;font-family:Menlo,'DejaVu Sans Mono',consolas,'Courier New',monospace\">Saved Rejects WF in childes_wf <span style=\"font-weight: bold\">(</span>Total time: <span style=\"color: #008080; text-decoration-color: #008080; font-weight: bold\">1</span> seconds<span style=\"font-weight: bold\">)</span>\n",
       "</pre>\n"
      ],
      "text/plain": [
       "Saved Rejects WF in childes_wf \u001b[1m(\u001b[0mTotal time: \u001b[1;36m1\u001b[0m seconds\u001b[1m)\u001b[0m\n"
      ]
     },
     "metadata": {},
     "output_type": "display_data"
    }
   ],
   "source": [
    "from pathlib import Path\n",
    "from lexical_benchmark.datasets.human import childes\n",
    "from lexical_benchmark.utils import timed_status\n",
    "\n",
    "dataset = childes.CleanCHILDESFiles()\n",
    "\n",
    "Path('childes_wf').mkdir(exist_ok=True, parents=True)\n",
    "with timed_status(status=\"Extracting Clean WF\", complete_status=\"Saved clean WF in childes_wf\"):\n",
    "    dataset.clean_word_frequency(\"Eng-NA\", \"adult\").to_csv(\"childes_wf/clean_words.en_na.adult.csv\", index=False)\n",
    "    dataset.clean_word_frequency(\"Eng-UK\", \"adult\").to_csv(\"childes_wf/clean_words.en_uk.adult.csv\", index=False)\n",
    "    dataset.clean_word_frequency(\"Eng-NA\", \"child\").to_csv(\"childes_wf/clean_words.en_na.child.csv\", index=False)\n",
    "    dataset.clean_word_frequency(\"Eng-UK\", \"child\").to_csv(\"childes_wf/clean_words.en_na.child.csv\", index=False)\n",
    "\n",
    "\n",
    "with timed_status(status=\"Extracting Rejects WF\", complete_status=\"Saved Rejects WF in childes_wf\"):\n",
    "    dataset.rejected_word_frequency(\"Eng-NA\", \"adult\").to_csv(\"childes_wf/rejected_words.en_na.adult.csv\", index=False)\n",
    "    dataset.rejected_word_frequency(\"Eng-UK\", \"adult\").to_csv(\"childes_wf/rejected_words.en_uk.adult.csv\", index=False)\n",
    "    dataset.rejected_word_frequency(\"Eng-NA\", \"child\").to_csv(\"childes_wf/rejected_words.en_na.child.csv\", index=False)\n",
    "    dataset.rejected_word_frequency(\"Eng-UK\", \"child\").to_csv(\"childes_wf/rejected_words.en_na.child.csv\", index=False)"
   ]
  },
  {
   "cell_type": "markdown",
   "id": "db9359b7-7d0e-4a5b-b5de-00c5a9b6d782",
   "metadata": {},
   "source": [
    "#### Spliting speech by age.\n",
    "\n",
    "We create a grouping of children by age per month.\n",
    "\n",
    "This will give us discreet groupings of 1month old, 2month olds etc.."
   ]
  },
  {
   "cell_type": "code",
   "execution_count": 1,
   "id": "a7c57229-2d64-47ae-b8e2-ad3f10e0b879",
   "metadata": {},
   "outputs": [
    {
     "data": {
      "application/vnd.jupyter.widget-view+json": {
       "model_id": "",
       "version_major": 2,
       "version_minor": 0
      },
      "text/plain": [
       "Output()"
      ]
     },
     "metadata": {},
     "output_type": "display_data"
    },
    {
     "data": {
      "text/html": [
       "<pre style=\"white-space:pre;overflow-x:auto;line-height:normal;font-family:Menlo,'DejaVu Sans Mono',consolas,'Courier New',monospace\"></pre>\n"
      ],
      "text/plain": []
     },
     "metadata": {},
     "output_type": "display_data"
    },
    {
     "name": "stdout",
     "output_type": "stream",
     "text": [
      "Splits build succesfully...\n"
     ]
    }
   ],
   "source": [
    "from lexical_benchmark import settings\n",
    "from lexical_benchmark.datasets.human import childes\n",
    "from rich.console import Console\n",
    "\n",
    "with Console().status(\"Building child age splits...\"):\n",
    "    organizer = childes.OrganizeByAge(settings.PATH.clean, [\"Eng-NA\", \"Eng-UK\"])\n",
    "    organizer.make_age_splits()\n",
    "    organizer.build_splits()\n",
    "print(\"Splits build succesfully...\")"
   ]
  },
  {
   "cell_type": "code",
   "execution_count": 6,
   "id": "c228b018-daf8-4e5b-beb5-738957236f44",
   "metadata": {},
   "outputs": [
    {
     "data": {
      "image/png": "[encoded data removed]",
      "text/plain": [
       "<Figure size 1000x600 with 1 Axes>"
      ]
     },
     "metadata": {},
     "output_type": "display_data"
    },
    {
     "data": {
      "image/png": "[encoded data removed]",
      "text/plain": [
       "<Figure size 1000x600 with 1 Axes>"
      ]
     },
     "metadata": {},
     "output_type": "display_data"
    }
   ],
   "source": [
    "%matplotlib inline\n",
    "import matplotlib.pyplot as plt\n",
    "from lexical_benchmark import settings\n",
    "\n",
    "for lang in (\"Eng-NA\", \"Eng-UK\"):\n",
    "\n",
    "    freq_map = {}\n",
    "    for min_age, max_age in settings.CHILDES.AGE_RANGES:\n",
    "        location = settings.PATH.clean_childes / lang / \"child_by_age\" / f\"{min_age}_{max_age}\"\n",
    "        freq_map[f\"({min_age}, {max_age})\"] = len(list(location.glob('*.txt')))\n",
    "\n",
    "    age_range, nb_items = zip(*list(freq_map.items()), strict=True)\n",
    "    plt.figure(figsize=(10, 6))\n",
    "    plt.bar(age_range, nb_items)\n",
    "    plt.xlabel(\"Age Range\")\n",
    "    plt.ylabel(\"NB Items\")\n",
    "    plt.title(f\"Number of items in {lang}\")\n",
    "    plt.xticks(rotation=90)\n",
    "    plt.savefig(f\"childes_index-{lang}.png\")"
   ]
  },
  {
   "cell_type": "markdown",
   "id": "76c07aa2-2950-49f6-8c18-037fd36385a5",
   "metadata": {},
   "source": [
    "# Other tasks\n",
    "\n",
    "- [ ] Create account of words / non-words / extra_words\n",
    "- [ ] Do some stats on types & other info\n",
    "\n",
    "> Extra words are words added by registering tags from Annotations"
   ]
  },
  {
   "cell_type": "markdown",
   "id": "7c91d664-08ab-4867-a010-b32bd4a36d39",
   "metadata": {},
   "source": [
    "## Reset Word filtering"
   ]
  },
  {
   "cell_type": "code",
   "execution_count": null,
   "id": "f8e7bb29-3296-4f29-ad1e-bf30c7a19216",
   "metadata": {},
   "outputs": [],
   "source": [
    "from lexical_benchmark.datasets import utils\n",
    "from lexical_benchmark.datasets.human import childes\n",
    "from lexical_benchmark.utils import timed_status\n",
    "\n",
    "dataset = childes.CleanCHILDESFiles()\n",
    "en_cleaner = utils.DictionairyCleaner(lang=\"EN\", childes_extra_id=\"e9c0d55cf62ba9e937fe273de7626661\")\n",
    "\n",
    "with timed_status(status=\"Filtering Eng-NA/adult\", complete_status=\"Completed Eng-NA/adult\"):\n",
    "    dataset.filter_words(lang_accent=\"Eng-NA\", speech_type=\"adult\", cleaner=en_cleaner)\n",
    "\n",
    "with timed_status(status=\"Filtering Eng-NA/child\", complete_status=\"Completed Eng-NA/child\"):\n",
    "    dataset.filter_words(lang_accent=\"Eng-NA\", speech_type=\"child\", cleaner=en_cleaner)\n",
    "\n",
    "with timed_status(status=\"Filtering Eng-UK/adult\", complete_status=\"Completed Eng-UK/adult\"):\n",
    "    dataset.filter_words(lang_accent=\"Eng-UK\", speech_type=\"adult\", cleaner=en_cleaner)\n",
    "\n",
    "with timed_status(status=\"Filtering Eng-UK/child\", complete_status=\"Completed Eng-UK/child\"):\n",
    "    dataset.filter_words(lang_accent=\"Eng-UK\", speech_type=\"child\", cleaner=en_cleaner)"
   ]
  }
 ],
 "metadata": {
  "kernelspec": {
   "display_name": "Python 3 (ipykernel)",
   "language": "python",
   "name": "python3"
  },
  "language_info": {
   "codemirror_mode": {
    "name": "ipython",
    "version": 3
   },
   "file_extension": ".py",
   "mimetype": "text/x-python",
   "name": "python",
   "nbconvert_exporter": "python",
   "pygments_lexer": "ipython3",
   "version": "3.11.7"
  }
 },
 "nbformat": 4,
 "nbformat_minor": 5
}
