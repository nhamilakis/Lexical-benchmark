{
 "cells": [
  {
   "cell_type": "markdown",
   "id": "033e2718-8431-446d-a5b9-87efb435514a",
   "metadata": {},
   "source": [
    "Extracting speech from the childes corpus and organising it in the following format:\n",
    "\n",
    "```\n",
    "├── Eng-NA\n",
    "│   ├── adult\n",
    "│   │   ├── *.txt\n",
    "│   ├── child\n",
    "│   │   ├── *.txt\n",
    "│   └── metadata.csv\n",
    "└── Eng-UK\n",
    "    ├── adult\n",
    "    ├── child\n",
    "    └── metadata.csv\n",
    "```\n",
    "Each first folder corresponds to a Language_Accent.\n",
    "- English North America\n",
    "- English United Kingdom.\n",
    "\n",
    "The `child` folder contains child speech the `adult` folder contains adult speech.\n",
    "File are named after the original CHILDES folders so we do not remove the link between child/adult sets.\n",
    "The metadata folder contains information about contents:\n",
    "\n",
    "| file_id           | lang  child_gender | child_age |         |\n",
    "|-------------------|--------------------|-----------|---------|\n",
    "| Haggerty_haggerty | eng                | female    | 2;07.18 |\n",
    "| Brown_Eve_010600b | eng                | female    | 1;06.00 |\n",
    "| Brown_Eve_010600a | eng                | female    | 1;06.00 |\n",
    "\n",
    "Items that do not have a `child_gender` or `child_age` columns signify those files did not contain child speech."
   ]
  },
  {
   "cell_type": "code",
   "execution_count": 1,
   "id": "faa05e18-ab3e-45b8-a34e-87f0c553ae3d",
   "metadata": {},
   "outputs": [
    {
     "data": {
      "text/html": [
       "<pre style=\"white-space:pre;overflow-x:auto;line-height:normal;font-family:Menlo,'DejaVu Sans Mono',consolas,'Courier New',monospace\">Processing Eng-UK .cha files... <span style=\"color: #729c1f; text-decoration-color: #729c1f\">━━━━━━━━━━━━━━━━━━━━━━━━━━━━━━━━━━━━━━━━</span> <span style=\"color: #800080; text-decoration-color: #800080\">100%</span> <span style=\"color: #808000; text-decoration-color: #808000\">0:00:53</span>\n",
       "</pre>\n"
      ],
      "text/plain": [
       "Processing Eng-UK .cha files... \u001b[38;2;114;156;31m━━━━━━━━━━━━━━━━━━━━━━━━━━━━━━━━━━━━━━━━\u001b[0m \u001b[35m100%\u001b[0m \u001b[33m0:00:53\u001b[0m\n"
      ]
     },
     "metadata": {},
     "output_type": "display_data"
    },
    {
     "data": {
      "text/html": [
       "<pre style=\"white-space:pre;overflow-x:auto;line-height:normal;font-family:Menlo,'DejaVu Sans Mono',consolas,'Courier New',monospace\"></pre>\n"
      ],
      "text/plain": []
     },
     "metadata": {},
     "output_type": "display_data"
    },
    {
     "data": {
      "text/html": [
       "<pre style=\"white-space:pre;overflow-x:auto;line-height:normal;font-family:Menlo,'DejaVu Sans Mono',consolas,'Courier New',monospace\">\n",
       "</pre>\n"
      ],
      "text/plain": [
       "\n"
      ]
     },
     "metadata": {},
     "output_type": "display_data"
    }
   ],
   "source": [
    "from lexical_benchmark import settings\n",
    "from lexical_benchmark.datasets.human import CHILDESPreparation\n",
    "\n",
    "prep = CHILDESPreparation()\n",
    "prep.load_dir(settings.PATH.source_childes / \"Eng-NA\", \"Eng-NA\")\n",
    "prep.load_dir(settings.PATH.source_childes / \"Eng-UK\", \"Eng-UK\")\n",
    "prep.export_to_dir(settings.PATH.raw_childes, show_progress=True)"
   ]
  },
  {
   "cell_type": "markdown",
   "id": "db9359b7-7d0e-4a5b-b5de-00c5a9b6d782",
   "metadata": {},
   "source": [
    "Spliting speech by age.\n",
    "\n",
    "We separate child speech by the following age groups:\n",
    "\n",
    "- `00 months - 06 months`\n",
    "- `06 months - 12 months`\n",
    "- `12 months - 18 months`\n",
    "- `18 months - 24 months`\n",
    "- `24 months - 30 months`\n",
    "\n",
    "Which is a split by 6 month interval from 0 to 2.5 years old."
   ]
  },
  {
   "cell_type": "code",
   "execution_count": 2,
   "id": "a7c57229-2d64-47ae-b8e2-ad3f10e0b879",
   "metadata": {},
   "outputs": [
    {
     "data": {
      "application/vnd.jupyter.widget-view+json": {
       "model_id": "",
       "version_major": 2,
       "version_minor": 0
      },
      "text/plain": [
       "Output()"
      ]
     },
     "metadata": {},
     "output_type": "display_data"
    },
    {
     "data": {
      "text/html": [
       "<pre style=\"white-space:pre;overflow-x:auto;line-height:normal;font-family:Menlo,'DejaVu Sans Mono',consolas,'Courier New',monospace\"></pre>\n"
      ],
      "text/plain": []
     },
     "metadata": {},
     "output_type": "display_data"
    }
   ],
   "source": [
    "from lexical_benchmark import settings\n",
    "from lexical_benchmark.datasets.human import OrganizeByAge\n",
    "from rich.console import Console\n",
    "\n",
    "\n",
    "with Console().status(\"Building child age splits...\"):\n",
    "    organizer = OrganizeByAge(settings.PATH.raw_childes, [ \"Eng-NA\", \"Eng-UK\"])\n",
    "    organizer.make_age_splits()\n",
    "    organizer.build_splits()\n",
    "print(\"Splits build succesfully...\")"
   ]
  },
  {
   "cell_type": "code",
   "execution_count": 6,
   "id": "c228b018-daf8-4e5b-beb5-738957236f44",
   "metadata": {},
   "outputs": [
    {
     "name": "stdout",
     "output_type": "stream",
     "text": [
      "--Eng-NA--\n",
      "[0,6]:: 3 number of entries.\n",
      "[6,12]:: 678 number of entries.\n",
      "[12,18]:: 322 number of entries.\n",
      "[18,24]:: 651 number of entries.\n",
      "[24,30]:: 858 number of entries.\n",
      "--Eng-UK--\n",
      "[0,6]:: 1 number of entries.\n",
      "[6,12]:: 194 number of entries.\n",
      "[12,18]:: 174 number of entries.\n",
      "[18,24]:: 136 number of entries.\n",
      "[24,30]:: 619 number of entries.\n"
     ]
    }
   ],
   "source": [
    "from lexical_benchmark import settings\n",
    "\n",
    "for lang in (\"Eng-NA\", \"Eng-UK\"):\n",
    "    print(f\"--{lang}--\")\n",
    "    for min_age, max_age in settings.CHILDES_AGE_RANGES:\n",
    "        location = settings.PATH.raw_childes / lang / \"child_by_age\" / f\"{min_age}_{max_age}\"\n",
    "        print(f\"[{min_age},{max_age}]:: {len(list(location.glob('*.txt')))} number of entries.\")"
   ]
  }
 ],
 "metadata": {
  "kernelspec": {
   "display_name": "Python 3 (ipykernel)",
   "language": "python",
   "name": "python3"
  },
  "language_info": {
   "codemirror_mode": {
    "name": "ipython",
    "version": 3
   },
   "file_extension": ".py",
   "mimetype": "text/x-python",
   "name": "python",
   "nbconvert_exporter": "python",
   "pygments_lexer": "ipython3",
   "version": "3.11.7"
  }
 },
 "nbformat": 4,
 "nbformat_minor": 5
}
