{
 "cells": [
  {
   "cell_type": "code",
   "execution_count": null,
   "id": "067f9f96-45c6-4b84-a84f-85668a6ab1d2",
   "metadata": {},
   "outputs": [],
   "source": [
    "import re\n",
    "from lexical_benchmark.datasets.human.childes_clean import TagCleaner\n",
    "\n",
    "pattern = re.compile(r\"\\b[^ ]+@o\\b\")\n",
    "cleaner = TagCleaner(clean_pattern=\"@o\", match_pattern=pattern, )"
   ]
  },
  {
   "cell_type": "code",
   "execution_count": 22,
   "id": "01574258-6864-4c62-b37d-2bb663ac1915",
   "metadata": {},
   "outputs": [
    {
     "name": "stdout",
     "output_type": "stream",
     "text": [
      "0: Single word:  \n",
      "1: Multiple words: This is a  \n",
      "2: Punctuation: I  ! It's great.\n",
      "3: Numbers:   is a weird number.\n",
      "4: Capitalization:   is a big place.\n",
      "5: Special characters: $@o is a symbol.\n",
      "6: Multiple instances:  ,  !\n",
      "7: Beginning of line: @o is the first word.\n",
      "8: End of line: The last word is @o.\n",
      "9: Mixed case:   favorite animal is a  .\n"
     ]
    }
   ],
   "source": [
    "import re\n",
    "examples = [\n",
    "    \"Single word: Hello@o\",\n",
    "    \"Multiple words: This is a word@o\",\n",
    "    \"Punctuation: I love@o! It's great.\",\n",
    "    \"Numbers: 123@o is a weird number.\",\n",
    "    \"Capitalization: World@o is a big place.\",\n",
    "    \"Special characters: $@o is a symbol.\",\n",
    "    \"Multiple instances: Hello@o, world@o!\",\n",
    "    \"Beginning of line: @o is the first word.\",\n",
    "    \"End of line: The last word is @o.\",\n",
    "    \"Mixed case: My@o favorite animal is a cat@o.\"\n",
    "]\n",
    "pattern = re.compile(r\"\\b[^ ]+@o\\b\")\n",
    "for i, e in enumerate(examples):\n",
    "    res = pattern.sub(\" \", e)\n",
    "    print(f\"{i}: {res}\")"
   ]
  },
  {
   "cell_type": "code",
   "execution_count": null,
   "id": "b9012f51-7c8a-4fd7-8d2e-2019f7ef4dc7",
   "metadata": {},
   "outputs": [],
   "source": []
  }
 ],
 "metadata": {
  "kernelspec": {
   "display_name": "Python 3 (ipykernel)",
   "language": "python",
   "name": "python3"
  },
  "language_info": {
   "codemirror_mode": {
    "name": "ipython",
    "version": 3
   },
   "file_extension": ".py",
   "mimetype": "text/x-python",
   "name": "python",
   "nbconvert_exporter": "python",
   "pygments_lexer": "ipython3",
   "version": "3.12.1"
  }
 },
 "nbformat": 4,
 "nbformat_minor": 5
}
